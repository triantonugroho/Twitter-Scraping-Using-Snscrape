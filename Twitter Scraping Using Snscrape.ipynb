{
 "cells": [
  {
   "cell_type": "code",
   "execution_count": 1,
   "id": "b5ba4bd0",
   "metadata": {},
   "outputs": [],
   "source": [
    "import snscrape.modules.twitter as sntwitter\n",
    "import pandas as pd\n",
    "\n",
    "maxTweets = 3999\n",
    "username = 'jokowi'\n",
    "scrape = 'from:'+username\n",
    "\n",
    "# Creating list to append tweet data to\n",
    "tweets_list1 = []\n",
    "\n",
    "for i,tweet in enumerate(sntwitter.TwitterSearchScraper(scrape).get_items()):\n",
    "    if i>maxTweets:\n",
    "        break\n",
    "    tweets_list1.append([tweet.user.displayname,tweet.user.description,tweet.user.friendsCount,\n",
    "    tweet.user.followersCount,tweet.user.profileImageUrl,tweet.user.profileBannerUrl,\n",
    "    tweet.content,tweet.media,tweet.url,tweet.date,tweet.retweetCount,tweet.likeCount])\n",
    "    \n",
    "# Creating a dataframe from the tweets list above \n",
    "tweets_df1 = pd.DataFrame(tweets_list1, columns=['name','bio','following','followers',\n",
    "'profile_photo_url', 'wallpaper_photo_url','tweet_caption',\n",
    "'tweet_media_url','tweet_url','tweet_timestamp','retweets','likes'])\n",
    "\n",
    "tweets_df1.to_csv(username+'.csv',sep=',',index=False)"
   ]
  }
 ],
 "metadata": {
  "kernelspec": {
   "display_name": "Python 3.9.12",
   "language": "python",
   "name": "python3"
  },
  "language_info": {
   "codemirror_mode": {
    "name": "ipython",
    "version": 3
   },
   "file_extension": ".py",
   "mimetype": "text/x-python",
   "name": "python",
   "nbconvert_exporter": "python",
   "pygments_lexer": "ipython3",
   "version": "3.9.12"
  },
  "vscode": {
   "interpreter": {
    "hash": "88279d2366fe020547cde40dd65aa0e3aa662a6ec1f3ca12d88834876c85e1a6"
   }
  }
 },
 "nbformat": 4,
 "nbformat_minor": 5
}
